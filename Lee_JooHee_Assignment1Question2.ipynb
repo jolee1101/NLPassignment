{
  "nbformat": 4,
  "nbformat_minor": 0,
  "metadata": {
    "colab": {
      "name": "Lee_JooHee_Assignment1Question2",
      "provenance": [],
      "collapsed_sections": [],
      "include_colab_link": true
    },
    "kernelspec": {
      "name": "python3",
      "display_name": "Python 3"
    },
    "language_info": {
      "name": "python"
    }
  },
  "cells": [
    {
      "cell_type": "markdown",
      "metadata": {
        "id": "view-in-github",
        "colab_type": "text"
      },
      "source": [
        "<a href=\"https://colab.research.google.com/github/jolee1101/NLPassignment/blob/main/Lee_JooHee_Assignment1Question2.ipynb\" target=\"_parent\"><img src=\"https://colab.research.google.com/assets/colab-badge.svg\" alt=\"Open In Colab\"/></a>"
      ]
    },
    {
      "cell_type": "code",
      "metadata": {
        "id": "0XC5ASXZ8XDH"
      },
      "source": [
        "import random\n",
        "import sys\n",
        "from typing import Callable, List\n",
        "\n",
        "import numpy as np\n",
        "import pandas as pd\n",
        "from sklearn.datasets import make_classification\n",
        "from sklearn.linear_model import LogisticRegression\n",
        "\n",
        "# added\n",
        "from sklearn.model_selection import train_test_split\n",
        "from sklearn.metrics import accuracy_score\n",
        "import time\n",
        "import matplotlib\n",
        "import matplotlib.pyplot as plt"
      ],
      "execution_count": null,
      "outputs": []
    },
    {
      "cell_type": "code",
      "metadata": {
        "id": "PayJ9rfy8bvU"
      },
      "source": [
        "class LogLinearModel:\n",
        "    def __init__(\n",
        "            self,\n",
        "            feature_function: Callable,\n",
        "            learning_rate: float,\n",
        "            iterations: int,\n",
        "            loss: Callable,\n",
        "            gradient_loss: Callable,\n",
        "            verbose: bool,\n",
        "    ):\n",
        "        \"\"\"\n",
        "        Parameters\n",
        "        ---\n",
        "        feature_function : Callable\n",
        "            Feature function mapping from X x Y -> R^m\n",
        "        learning_rate : float\n",
        "            Learning rate parameter eta for gradient descent\n",
        "        iterations : int\n",
        "            Number of iterations to run gradient descent for during `fit`\n",
        "        loss : Callable\n",
        "            Loss function to be used by this LogLinearModel instance as\n",
        "            a function of the parameters and the data X and y\n",
        "        gradient_loss : Callable\n",
        "            Closed form gradient of the `loss` function used for gradient descent as\n",
        "            a function of the parameters and the data X and y\n",
        "        verbose : bool\n",
        "            Verbosity level of the class. If verbose == True,\n",
        "            the class will print updates about the gradient\n",
        "            descent steps during `fit`\n",
        "\n",
        "        \"\"\"\n",
        "        # TODO\n",
        "        self.feature_function = feature_function\n",
        "        self.learning_rate = learning_rate\n",
        "        self.iteration = iterations\n",
        "        self.loss = loss\n",
        "        self.gradient_loss = gradient_loss\n",
        "        self.verbose = verbose\n",
        "\n",
        "    def gradient_descent(self, X: np.ndarray, y: np.ndarray):\n",
        "        \"\"\"Performs one gradient descent step, and update parameters inplace.\n",
        "        # to be used by fit and update model params based on gradient of loss function\n",
        "\n",
        "        Parameters\n",
        "        ---\n",
        "        X : np.ndarray\n",
        "            Data matrix\n",
        "        y : np.ndarray\n",
        "            Binary target values\n",
        "\n",
        "        Returns\n",
        "        ---\n",
        "        None\n",
        "\n",
        "        \"\"\"\n",
        "        # TODO\n",
        "        # Adapted from lecture 2 slide 18. This method updates the weights theta.\n",
        "        self.theta = self.theta_old - self.learning_rate * self.gradient_loss(self.theta_old, X, y)\n",
        "\n",
        "    def fit(self, X: np.ndarray, y: np.ndarray):\n",
        "        \"\"\"Fits LogLinearModel class using gradient descent.\n",
        "        # to estimate the parameters theta of the model\n",
        "\n",
        "        Parameters\n",
        "        ---\n",
        "        X : np.ndarray\n",
        "            Input data matrix\n",
        "        y : np.ndarray\n",
        "            Binary target values\n",
        "\n",
        "        Returns\n",
        "        ---\n",
        "        None\n",
        "\n",
        "        \"\"\"\n",
        "        # TODO\n",
        "        # Adapted from lecture 2 slide 18. Initiates thetas (old and new theta for gradient descent) to zeros and the loss 1.\n",
        "        current_iter = 0\n",
        "        self.theta = np.ones(X.shape[1])\n",
        "        self.theta_old = np.ones(X.shape[1])\n",
        "        prev_loss = 0\n",
        "\n",
        "        while current_iter < self.iteration:\n",
        "            self.gradient_descent(X, y)\n",
        "\n",
        "            new_loss = self.loss(self.theta, X, y)\n",
        "\n",
        "            #Calculation for verbose\n",
        "            change_loss = new_loss - prev_loss\n",
        "            prev_loss = new_loss\n",
        "            max_theta_change = np.max(np.abs(self.theta - self.theta_old))\n",
        "            \n",
        "            #theta update\n",
        "            self.theta_old = self.theta\n",
        "\n",
        "            if self.verbose:\n",
        "                print(\"The number of the current iteration: {}/{}\".format(current_iter + 1, self.iteration))\n",
        "                print(\"The change in loss after this gradient step: {}\".format(change_loss))\n",
        "                print(\"The largest absolute change in any of the single parameters theta after this step: {}\".format(max_theta_change))\n",
        "\n",
        "            current_iter += 1\n",
        "\n",
        "    def predict(self, X: np.ndarray) -> np.ndarray:\n",
        "        \"\"\"Predicts binary target labels for input data `X`.\n",
        "\n",
        "        Parameters\n",
        "        ---\n",
        "        X : np.ndarray\n",
        "            Input data matrix\n",
        "\n",
        "        Returns\n",
        "        ---\n",
        "        np.ndarray\n",
        "            Predicted binary target labels\n",
        "\n",
        "        \"\"\"\n",
        "        # TODO\n",
        "        #Adapted from exercise 3 question 2. Predicts X with the feature function for a given dataset X.\n",
        "        y_pred = np.zeros(X.shape[0])\n",
        "        for i in range(X.shape[0]):\n",
        "            if np.dot(self.theta, feature_function(X[i,:],1))-np.dot(self.theta, feature_function(X[i,:],0))> 0:\n",
        "                y_pred[i] = 1\n",
        "        return y_pred\n"
      ],
      "execution_count": null,
      "outputs": []
    },
    {
      "cell_type": "code",
      "metadata": {
        "id": "R3Ayb94i8Xmq"
      },
      "source": [
        "# Set seeds to ensure reproducibility\n",
        "np.random.seed(42)\n",
        "random.seed(42)"
      ],
      "execution_count": null,
      "outputs": []
    },
    {
      "cell_type": "markdown",
      "source": [
        "# Assignment1 Question2\n",
        "a) Below feature function, loss, gradient and probability functions are implemented. They are adopted from lecture 2 and 3."
      ],
      "metadata": {
        "id": "DLiNmphSr6vB"
      }
    },
    {
      "cell_type": "code",
      "source": [
        "def grad_loss_function(theta: np.ndarray, X: np.ndarray, Y: np.ndarray):\n",
        "    #Calculates the observed feature counts and expected feature counts and calculates the difference of them.\n",
        "    observed = sum([feature_function(X[i,:],int(Y[i])) for i in range(X.shape[0])])\n",
        "    expected = sum([feature_function(X[i,:],0)*probability(theta, X[i,:], 0) for i in range(X.shape[0])]) + sum([feature_function(X[i,:],1)*probability(theta, X[i,:], 1) for i in range(X.shape[0])])\n",
        "\n",
        "    return observed - expected\n",
        "\n",
        "\n",
        "def neg_log_likelihood(theta: np.ndarray, X: np.ndarray,Y: np.ndarray):\n",
        "    neg_log = (- sum(([np.log(probability(theta, X[i, :], int(Y[i]))) for i in range(X.shape[0])])))\n",
        "    return float(neg_log)\n",
        "\n",
        "def feature_function(X: np.ndarray, y: int):\n",
        "    #feature function takes X and y for each row and calculates a linear function.  \n",
        "    ff = 1.5*X*y-2\n",
        "    return ff\n",
        "\n",
        "def probability (theta: np.ndarray, X: np.ndarray,y: int):\n",
        "    nominator = np.exp(np.dot(theta, feature_function(X, y)))\n",
        "    denominator = np.exp(np.dot(theta, feature_function(X, 0)))+np.exp(np.dot(theta, feature_function(X, 1)))\n",
        "    return nominator/denominator\n"
      ],
      "metadata": {
        "id": "Q_4ynNuIS4Od"
      },
      "execution_count": null,
      "outputs": []
    },
    {
      "cell_type": "markdown",
      "source": [
        "**verbose** is set to *True* to return information about each iteration of gradient descent. Also, the iteration has been set to 5. "
      ],
      "metadata": {
        "id": "hbqATCP8Gv6V"
      }
    },
    {
      "cell_type": "code",
      "source": [
        "llm = LogLinearModel(\n",
        "    feature_function=feature_function,  # TODO # Feature function mapping from X x Y -> R^m\n",
        "    learning_rate=0.000001,  # Make sure that the model converges\n",
        "                                  # with your chosen learning rate\n",
        "    iterations=5,\n",
        "    loss=neg_log_likelihood,  # TODO # recall that this implies the parameters of your log-linear model will be estimated using maximum likelihood.\n",
        "    gradient_loss=grad_loss_function,  # TODO,\n",
        "    verbose= True\n",
        ")\n",
        "X, y = make_classification(\n",
        "    n_samples=100, random_state=42, n_informative=20, n_features=20, n_redundant=0\n",
        ")\n",
        "\n",
        "llm.fit(X_train,y_train)"
      ],
      "metadata": {
        "colab": {
          "base_uri": "https://localhost:8080/"
        },
        "id": "63u7Lo9dGvVF",
        "outputId": "18f7a384-c914-4a14-d086-80058fd00a72"
      },
      "execution_count": null,
      "outputs": [
        {
          "output_type": "stream",
          "name": "stdout",
          "text": [
            "The number of the current iteration: 1/5\n",
            "The change in loss after this gradient step: 515.6094098307856\n",
            "The largest absolute change in any of the single parameters theta after this step: 9.160168729294149e-05\n",
            "The number of the current iteration: 2/5\n",
            "The change in loss after this gradient step: 0.03381435128551402\n",
            "The largest absolute change in any of the single parameters theta after this step: 9.160473572600303e-05\n",
            "The number of the current iteration: 3/5\n",
            "The change in loss after this gradient step: 0.033815389276696806\n",
            "The largest absolute change in any of the single parameters theta after this step: 9.160778411620996e-05\n",
            "The number of the current iteration: 4/5\n",
            "The change in loss after this gradient step: 0.03381642703266152\n",
            "The largest absolute change in any of the single parameters theta after this step: 9.161083246422841e-05\n",
            "The number of the current iteration: 5/5\n",
            "The change in loss after this gradient step: 0.033817464555454535\n",
            "The largest absolute change in any of the single parameters theta after this step: 9.161388077116861e-05\n"
          ]
        }
      ]
    },
    {
      "cell_type": "code",
      "metadata": {
        "id": "Ke2ULXNz8gvu"
      },
      "source": [
        "lr = LogisticRegression()\n",
        "\n",
        "llm = LogLinearModel(\n",
        "    feature_function=feature_function,  # TODO # Feature function mapping from X x Y -> R^m\n",
        "    learning_rate=0.000001,  # Make sure that the model converges\n",
        "                                  # with your chosen learning rate\n",
        "    iterations=100,\n",
        "    loss=neg_log_likelihood,  # TODO # recall that this implies the parameters of your log-linear model will be estimated using maximum likelihood.\n",
        "    gradient_loss=grad_loss_function,  # TODO,\n",
        "    verbose= False\n",
        ")\n"
      ],
      "execution_count": null,
      "outputs": []
    },
    {
      "cell_type": "markdown",
      "source": [
        "# Assignment1 Question2\n",
        "b) i), ii), iii) and iv) are provided for each data set. The graphs ar below."
      ],
      "metadata": {
        "id": "M5DYlujUGrt8"
      }
    },
    {
      "cell_type": "code",
      "source": [
        "#For graph creation\n",
        "comp_llm_fit = list()\n",
        "comp_llm_pred = list()\n",
        "comp_lr_fit = list()\n",
        "comp_lr_pred = list()\n",
        "acc_llm_in_sample = list()\n",
        "acc_lr_in_sample = list()\n",
        "acc_llm_out_sample = list()\n",
        "acc_lr_out_sample = list()\n"
      ],
      "metadata": {
        "id": "K-43fKQ1oJ2o"
      },
      "execution_count": null,
      "outputs": []
    },
    {
      "cell_type": "code",
      "metadata": {
        "id": "s6Vpa6A78oNs"
      },
      "source": [
        "# First dataset\n",
        "# Fit both `lr` and your `llm` on this dataset and compare\n",
        "# the aspects described in the assignment PDF\n",
        "X, y = make_classification(\n",
        "    n_samples=100, random_state=42, n_informative=20, n_features=20, n_redundant=0\n",
        ")\n",
        "\n"
      ],
      "execution_count": null,
      "outputs": []
    },
    {
      "cell_type": "code",
      "source": [
        "X_train, X_test, y_train, y_test = train_test_split(X, y, test_size=0.2, random_state=42)\n",
        "\n",
        "#First data set\n",
        "print(\"Results of i), ii), iii), iv) using the first data set\\n\")\n",
        "\n",
        "#Computation time of training and prediction time\n",
        "start_time = time.time()\n",
        "llm.fit(X_train,y_train)\n",
        "llm_fit_time = time.time() - start_time\n",
        "print(\"Computation time of Log-Linear Model training:{} sec \".format(llm_fit_time))\n",
        "comp_llm_fit.append(llm_fit_time)\n",
        "\n",
        "start_time= time.time()\n",
        "llm.predict(X_test)\n",
        "llm_pred_time = time.time() - start_time\n",
        "print(\"Computation time of log-linear model prediction:{} sec \\n\".format(llm_pred_time))\n",
        "comp_llm_pred.append(llm_pred_time)\n",
        "\n",
        "start_time= time.time()\n",
        "lr.fit(X_train,y_train)\n",
        "lr_fit_time = time.time() - start_time\n",
        "print(\"Computation time of logistic regression model fit:{} sec \".format(lr_fit_time))\n",
        "comp_lr_fit.append(lr_fit_time)\n",
        "\n",
        "start_time= time.time()\n",
        "lr.predict(X_test)\n",
        "lr_pred_time = time.time() - start_time\n",
        "print(\"Computation time of logistic regression predict:{} sec \\n\".format(lr_pred_time))\n",
        "comp_lr_pred.append(lr_pred_time)\n",
        "\n",
        "#in sample accuracy\n",
        "llm_in_score=accuracy_score(y_train, llm.predict(X_train))\n",
        "print(\"In-sample accuracy of log-linear model:{} \".format(llm_in_score))\n",
        "acc_llm_in_sample.append(llm_in_score)\n",
        "\n",
        "lr_in_score=accuracy_score(y_train, lr.predict(X_train))\n",
        "print(\"In-sample accuracy of linear regression:{} \\n\".format(lr_in_score))\n",
        "acc_lr_in_sample.append(lr_in_score)\n",
        "\n",
        "\n",
        "#out of sample accuracy\n",
        "llm_out_score=accuracy_score(y_test, llm.predict(X_test))\n",
        "print(\"Out-of-sample accuracy of log-linear model:{}\".format(llm_out_score))\n",
        "acc_llm_out_sample.append(llm_out_score)\n",
        "\n",
        "lr_out_score=accuracy_score(y_test, lr.predict(X_test))\n",
        "print(\"Out-of-sample accuracy of logistic regression:{} \\n\".format(lr_out_score))\n",
        "acc_lr_out_sample.append(lr_out_score)\n",
        "\n",
        "#Coefficient values\n",
        "print(\"Coefficient values of log-linear model:{} \\n\".format(llm.theta))\n",
        "print(\"Coefficient values of logistic regression model:{}\".format(lr.coef_))\n",
        "coef_llm_1=llm.theta\n",
        "coef_lr_1=lr.coef_\n"
      ],
      "metadata": {
        "id": "Xd0SGo-Iq_z5",
        "colab": {
          "base_uri": "https://localhost:8080/"
        },
        "outputId": "db9aae51-b26d-4a9b-fd56-d156b8c0eb55"
      },
      "execution_count": null,
      "outputs": [
        {
          "output_type": "stream",
          "name": "stdout",
          "text": [
            "Results of i), ii), iii), iv) using the first data set\n",
            "\n",
            "Computation time of Log-Linear Model training:0.8456647396087646 sec \n",
            "Computation time of log-linear model prediction:0.000774383544921875 sec \n",
            "\n",
            "Computation time of logistic regression model fit:0.010564565658569336 sec \n",
            "Computation time of logistic regression predict:0.00022125244140625 sec \n",
            "\n",
            "In-sample accuracy of log-linear model:0.5375 \n",
            "In-sample accuracy of linear regression:0.925 \n",
            "\n",
            "Out-of-sample accuracy of log-linear model:0.4\n",
            "Out-of-sample accuracy of logistic regression:0.6 \n",
            "\n",
            "Coefficient values of log-linear model:[1.00569057 1.00071164 1.00273831 1.00183754 1.00720812 0.99568885\n",
            " 1.00718819 1.00917526 1.00000322 1.00578991 1.00293446 0.99906898\n",
            " 1.00269881 1.00211643 1.00260041 1.00172848 1.00455932 1.00115118\n",
            " 0.99879421 0.99936892] \n",
            "\n",
            "Coefficient values of logistic regression model:[[ 0.11749391  0.36280229  0.1988937  -0.13524315 -0.59610756  0.53226736\n",
            "  -0.2309617  -0.26469731  0.39572901 -0.39231489  0.10804355  0.08616512\n",
            "   0.1752864   0.27279522  0.06448614  0.32427173 -0.1106502   0.1215947\n",
            "   0.57231295  0.09369065]]\n"
          ]
        }
      ]
    },
    {
      "cell_type": "code",
      "metadata": {
        "id": "l7bQ0Zct8rQC"
      },
      "source": [
        "# Second dataset\n",
        "# Fit both `lr` and your `llm` on this dataset and compare\n",
        "# the aspects described in the assignment PDF\n",
        "X, y = make_classification(\n",
        "    n_samples=1000,\n",
        "    random_state=42,\n",
        "    n_informative=20,\n",
        "    n_redundant=10,\n",
        "    n_features=35,\n",
        "    n_repeated=5,\n",
        ")\n"
      ],
      "execution_count": null,
      "outputs": []
    },
    {
      "cell_type": "code",
      "source": [
        "#Second data set\n",
        "print(\"Results of i), ii), iii), iv) using the second data set\\n\")\n",
        "X_train, X_test, y_train, y_test = train_test_split(X, y, test_size=0.2, random_state=42)\n",
        "\n",
        "#Computation time of training and prediction time\n",
        "start_time = time.time()\n",
        "llm.fit(X_train,y_train)\n",
        "llm_fit_time = time.time() - start_time\n",
        "print(\"Computation time of Log-Linear Model training:{} sec \".format(llm_fit_time))\n",
        "comp_llm_fit.append(llm_fit_time)\n",
        "\n",
        "start_time= time.time()\n",
        "llm.predict(X_test)\n",
        "llm_pred_time = time.time() - start_time\n",
        "print(\"Computation time of log-linear model prediction:{} sec \\n\".format(llm_pred_time))\n",
        "comp_llm_pred.append(llm_pred_time)\n",
        "\n",
        "start_time= time.time()\n",
        "lr.fit(X_train,y_train)\n",
        "lr_fit_time = time.time() - start_time\n",
        "print(\"Computation time of logistic regression model fit:{} sec \".format(lr_fit_time))\n",
        "comp_lr_fit.append(lr_fit_time)\n",
        "\n",
        "start_time= time.time()\n",
        "lr.predict(X_test)\n",
        "lr_pred_time = time.time() - start_time\n",
        "print(\"Computation time of logistic regression predict:{} sec \\n\".format(lr_pred_time))\n",
        "comp_lr_pred.append(lr_pred_time)\n",
        "\n",
        "#in sample accuracy\n",
        "llm_in_score=accuracy_score(y_train, llm.predict(X_train))\n",
        "print(\"In-sample accuracy of log-linear model:{} \".format(llm_in_score))\n",
        "acc_llm_in_sample.append(llm_in_score)\n",
        "\n",
        "lr_in_score=accuracy_score(y_train, lr.predict(X_train))\n",
        "print(\"In-sample accuracy of linear regression:{} \\n\".format(lr_in_score))\n",
        "acc_lr_in_sample.append(lr_acc_score)\n",
        "\n",
        "\n",
        "#out of sample accuracy\n",
        "llm_in_score=accuracy_score(y_test, llm.predict(X_test))\n",
        "print(\"Out-of-sample accuracy of log-linear model:{}\".format(llm_in_score))\n",
        "acc_llm_out_sample.append(llm_in_score)\n",
        "\n",
        "lr_out_score=accuracy_score(y_test, lr.predict(X_test))\n",
        "print(\"Out-of-sample accuracy of logistic regression:{} \\n\".format(lr_out_score))\n",
        "acc_lr_out_sample.append(lr_out_score)\n",
        "\n",
        "#Coefficient values\n",
        "print(\"Coefficient values of log-linear model:{} \\n\".format(llm.theta))\n",
        "print(\"Coefficient values of logistic regression model:{}\".format(lr.coef_))\n",
        "coef_llm_2=llm.theta\n",
        "coef_lr_2=lr.coef_\n"
      ],
      "metadata": {
        "colab": {
          "base_uri": "https://localhost:8080/"
        },
        "id": "Y8urZ5mfZK1x",
        "outputId": "a873dde1-bec2-468b-936b-880c2a47313a"
      },
      "execution_count": null,
      "outputs": [
        {
          "output_type": "stream",
          "name": "stdout",
          "text": [
            "Results of i), ii), iii), iv) using the second data set\n",
            "\n",
            "Computation time of Log-Linear Model training:7.742002010345459 sec \n",
            "Computation time of log-linear model prediction:0.0027618408203125 sec \n",
            "\n",
            "Computation time of logistic regression model fit:0.02146744728088379 sec \n",
            "Computation time of logistic regression predict:0.0009393692016601562 sec \n",
            "\n",
            "In-sample accuracy of log-linear model:0.39 \n",
            "In-sample accuracy of linear regression:0.8225 \n",
            "\n",
            "Out-of-sample accuracy of log-linear model:0.41\n",
            "Out-of-sample accuracy of logistic regression:0.805 \n",
            "\n",
            "Coefficient values of log-linear model:[0.92268786 1.06189672 1.0200639  1.07762798 1.00495062 1.20033323\n",
            " 0.82191028 1.0200724  1.06410767 0.92082173 1.0200724  0.98630607\n",
            " 1.0413294  1.23193917 0.93445261 1.0200724  0.96840266 0.96314482\n",
            " 1.10955749 0.96747537 0.95962118 1.03703297 1.00568446 0.97692992\n",
            " 0.98426739 1.352825   1.36029022 1.01872514 1.14602733 1.16779998\n",
            " 1.36029022 1.27996796 1.23193917 1.07762798 0.95813172] \n",
            "\n",
            "Coefficient values of logistic regression model:[[-0.08658402  0.08684787 -0.29592981 -0.00103342  0.3000845   0.04283951\n",
            "   0.0733078  -0.02482786  0.02750635  0.18799465 -0.02482786  0.22691357\n",
            "   0.01542108  0.03815258 -0.13954696 -0.02482786  0.00046603  0.13593352\n",
            "  -0.03484043  0.02567557  0.27478879 -0.04467681  0.10062447  0.32179795\n",
            "  -0.21280161 -0.08202248 -0.04705881 -0.04848713 -0.31186916 -0.04989234\n",
            "  -0.04705881 -0.01677754  0.03815258 -0.00103342 -0.03058044]]\n"
          ]
        }
      ]
    },
    {
      "cell_type": "code",
      "metadata": {
        "id": "iThAvCNa8sWB"
      },
      "source": [
        "# Third dataset\n",
        "# Fit both `lr` and your `llm` on this dataset and compare\n",
        "# the aspects described in the assignment PDF\n",
        "X, y = make_classification(\n",
        "    n_samples=10000, random_state=42, n_informative=2, n_repeated=5\n",
        ")\n"
      ],
      "execution_count": null,
      "outputs": []
    },
    {
      "cell_type": "code",
      "source": [
        "#Third data set\n",
        "print(\"Results of i), ii), iii), iv) using the third data set\\n\")\n",
        "X_train, X_test, y_train, y_test = train_test_split(X, y, test_size=0.2, random_state=42)\n",
        "\n",
        "#Computation time of training and prediction time\n",
        "start_time = time.time()\n",
        "llm.fit(X_train,y_train)\n",
        "llm_fit_time = time.time() - start_time\n",
        "print(\"Computation time of Log-Linear Model training:{} sec \".format(llm_fit_time))\n",
        "comp_llm_fit.append(llm_fit_time)\n",
        "\n",
        "start_time= time.time()\n",
        "llm.predict(X_test)\n",
        "llm_pred_time = time.time() - start_time\n",
        "print(\"Computation time of log-linear model prediction:{} sec \\n\".format(llm_pred_time))\n",
        "comp_llm_pred.append(llm_pred_time)\n",
        "\n",
        "start_time= time.time()\n",
        "lr.fit(X_train,y_train)\n",
        "lr_fit_time = time.time() - start_time\n",
        "print(\"Computation time of logistic regression model fit:{} sec \".format(lr_fit_time))\n",
        "comp_lr_fit.append(lr_fit_time)\n",
        "\n",
        "start_time= time.time()\n",
        "lr.predict(X_test)\n",
        "lr_pred_time = time.time() - start_time\n",
        "print(\"Computation time of logistic regression predict:{} sec \\n\".format(lr_pred_time))\n",
        "comp_lr_pred.append(lr_pred_time)\n",
        "\n",
        "#in sample accuracy\n",
        "llm_in_score=accuracy_score(y_train, llm.predict(X_train))\n",
        "print(\"In-sample accuracy of log-linear model:{} \".format(llm_in_score))\n",
        "acc_llm_in_sample.append(llm_in_score)\n",
        "\n",
        "lr_in_score=accuracy_score(y_train, lr.predict(X_train))\n",
        "print(\"In-sample accuracy of linear regression:{} \\n\".format(lr_in_score))\n",
        "acc_lr_in_sample.append(lr_in_score)\n",
        "\n",
        "\n",
        "#out of sample accuracy\n",
        "llm_out_score=accuracy_score(y_test, llm.predict(X_test))\n",
        "print(\"Out-of-sample accuracy of log-linear model:{}\".format(llm_out_score))\n",
        "acc_llm_out_sample.append(llm_out_score)\n",
        "\n",
        "lr_out_score=accuracy_score(y_test, lr.predict(X_test))\n",
        "print(\"Out-of-sample accuracy of logistic regression:{} \\n\".format(lr_out_score))\n",
        "acc_lr_out_sample.append(lr_out_score)\n",
        "\n",
        "#Coefficient values\n",
        "print(\"Coefficient values of log-linear model:{} \\n\".format(llm.theta))\n",
        "print(\"Coefficient values of logistic regression model:{}\".format(lr.coef_))\n",
        "coef_llm_3=llm.theta\n",
        "coef_lr_3=lr.coef_\n"
      ],
      "metadata": {
        "colab": {
          "base_uri": "https://localhost:8080/"
        },
        "id": "prlyKrYFZLwc",
        "outputId": "374474d7-fb5b-46f6-c286-a02d835e2f80"
      },
      "execution_count": null,
      "outputs": [
        {
          "output_type": "stream",
          "name": "stdout",
          "text": [
            "Results of i), ii), iii), iv) using the third data set\n",
            "\n",
            "Computation time of Log-Linear Model training:75.2649757862091 sec \n",
            "Computation time of log-linear model prediction:0.03177475929260254 sec \n",
            "\n",
            "Computation time of logistic regression model fit:0.02113652229309082 sec \n",
            "Computation time of logistic regression predict:0.0004181861877441406 sec \n",
            "\n",
            "In-sample accuracy of log-linear model:0.822625 \n",
            "In-sample accuracy of linear regression:0.89125 \n",
            "\n",
            "Out-of-sample accuracy of log-linear model:0.8245\n",
            "Out-of-sample accuracy of logistic regression:0.8895 \n",
            "\n",
            "Coefficient values of log-linear model:[1.04115821 1.03596903 1.04442845 1.0571752  1.02153693 1.04713392\n",
            " 1.04077936 1.0470423  1.07414415 1.04962169 1.02153693 1.04825337\n",
            " 1.09409336 0.84099658 1.02153693 1.02153693 1.04858426 1.05080601\n",
            " 1.09409336 1.07414415] \n",
            "\n",
            "Coefficient values of logistic regression model:[[-0.0152776   0.04968965  0.01634876 -0.03539352  0.53715296  0.00791353\n",
            "   0.03477999 -0.00271339  0.31563984  0.01367658  0.53715296  0.00464811\n",
            "  -0.39050174  0.52985676  0.53715296  0.53715296 -0.00880183 -0.02360706\n",
            "  -0.39050174  0.31563984]]\n"
          ]
        }
      ]
    },
    {
      "cell_type": "markdown",
      "source": [
        ""
      ],
      "metadata": {
        "id": "ly7ebm7OtLK6"
      }
    },
    {
      "cell_type": "code",
      "source": [
        "x_axis=[100,1000,10000]\n",
        "\n",
        "plt.plot(x_axis,comp_lr_fit, label=\"Linear regression training\")\n",
        "plt.plot(x_axis,comp_llm_fit, label='Log-linear model training')\n",
        "plt.legend(loc='upper left')\n",
        "plt.xlabel(\"Sample size\")\n",
        "plt.ylabel(\"Comp. time in sec\")\n",
        "plt.title(\"Computation time of training\")\n",
        "plt.show()\n",
        "print(\"Computation time of linear regression training:{}\".format(comp_lr_fit))\n",
        "print(\"Computation time of log-linear model training:{}\".format(comp_llm_fit))\n"
      ],
      "metadata": {
        "colab": {
          "base_uri": "https://localhost:8080/",
          "height": 330
        },
        "id": "pzxmRoXCtKva",
        "outputId": "d9133c28-fed3-4001-9d49-d0e39648dc91"
      },
      "execution_count": null,
      "outputs": [
        {
          "output_type": "display_data",
          "data": {
            "image/png": "[encoded data removed]",
            "text/plain": [
              "<Figure size 432x288 with 1 Axes>"
            ]
          },
          "metadata": {
            "needs_background": "light"
          }
        },
        {
          "output_type": "stream",
          "name": "stdout",
          "text": [
            "Computation time of linear regression training:[0.010564565658569336, 0.02146744728088379, 0.02113652229309082]\n",
            "Computation time of log-linear model training:[0.8456647396087646, 7.742002010345459, 75.2649757862091]\n"
          ]
        }
      ]
    },
    {
      "cell_type": "code",
      "source": [
        "plt.plot(x_axis,comp_lr_pred, label=\"Lr prediction\")\n",
        "plt.plot(x_axis,comp_llm_pred, label='Llm prediction')\n",
        "plt.legend(loc='upper left')\n",
        "plt.xlabel(\"Sample size\")\n",
        "plt.ylabel(\"Comp. time in sec\")\n",
        "plt.title(\"Computation time of prediction\")\n",
        "plt.show()\n",
        "print(\"Computation time of linear regression prediction:{}\".format(comp_lr_fit))\n",
        "print(\"Computation time of log-linear model prediction:{}\".format(comp_llm_fit))"
      ],
      "metadata": {
        "colab": {
          "base_uri": "https://localhost:8080/",
          "height": 330
        },
        "id": "M0rtm84CustP",
        "outputId": "4e8bf79c-db65-4414-a771-024ffe630d26"
      },
      "execution_count": null,
      "outputs": [
        {
          "output_type": "display_data",
          "data": {
            "image/png": "[encoded data removed]",
            "text/plain": [
              "<Figure size 432x288 with 1 Axes>"
            ]
          },
          "metadata": {
            "needs_background": "light"
          }
        },
        {
          "output_type": "stream",
          "name": "stdout",
          "text": [
            "Computation time of linear regression prediction:[0.010564565658569336, 0.02146744728088379, 0.02113652229309082]\n",
            "Computation time of log-linear model prediction:[0.8456647396087646, 7.742002010345459, 75.2649757862091]\n"
          ]
        }
      ]
    },
    {
      "cell_type": "markdown",
      "source": [
        "The log-linear model needs linear time for training and prediction and increases with the sample size.\n",
        "The training and prediction time of linear regression remains constant and is not impacted by the sample size."
      ],
      "metadata": {
        "id": "9X9jzFL4HrD7"
      }
    },
    {
      "cell_type": "code",
      "source": [
        "plt.plot(x_axis,acc_lr_in_sample, label=\"Lr\")\n",
        "plt.plot(x_axis,acc_llm_in_sample, label='Llm')\n",
        "plt.legend(loc='lower right')\n",
        "plt.xlabel(\"Sample size\")\n",
        "plt.ylabel(\"Accuracy\")\n",
        "plt.title(\"In-sample accuracy\")\n",
        "plt.show()\n",
        "print(\"In-sample accuracy of linear regression:{}\".format(acc_lr_in_sample))\n",
        "print(\"In-sample accuracy of log-linear model:{}\".format(acc_llm_in_sample))"
      ],
      "metadata": {
        "colab": {
          "base_uri": "https://localhost:8080/",
          "height": 330
        },
        "id": "AcnpclTjusj3",
        "outputId": "ee09147c-6d33-4d68-f01b-9349ee1b48a0"
      },
      "execution_count": null,
      "outputs": [
        {
          "output_type": "display_data",
          "data": {
            "image/png": "[encoded data removed]",
            "text/plain": [
              "<Figure size 432x288 with 1 Axes>"
            ]
          },
          "metadata": {
            "needs_background": "light"
          }
        },
        {
          "output_type": "stream",
          "name": "stdout",
          "text": [
            "In-sample accuracy of linear regression:[0.925, 0.6, 0.89125]\n",
            "In-sample accuracy of log-linear model:[0.5375, 0.39, 0.822625]\n"
          ]
        }
      ]
    },
    {
      "cell_type": "code",
      "source": [
        "plt.plot(x_axis,acc_lr_out_sample, label=\"Lr\")\n",
        "plt.plot(x_axis,acc_llm_out_sample, label='Llm')\n",
        "plt.legend(loc='lower right')\n",
        "plt.xlabel(\"Sample size\")\n",
        "plt.ylabel(\"Accuracy\")\n",
        "plt.title(\"Out-of-sample accuracy\")\n",
        "plt.show()\n",
        "print(\"Out-of-sample  accuracy of linear regression:{}\".format(acc_lr_out_sample))\n",
        "print(\"Out-of-sample  accuracy of log-linear model:{}\".format(acc_llm_out_sample))"
      ],
      "metadata": {
        "colab": {
          "base_uri": "https://localhost:8080/",
          "height": 330
        },
        "id": "3EBFAdXwusQw",
        "outputId": "ddc69be0-2dd1-40ae-ba0d-25f84ea4a2f5"
      },
      "execution_count": null,
      "outputs": [
        {
          "output_type": "display_data",
          "data": {
            "image/png": "[encoded data removed]",
            "text/plain": [
              "<Figure size 432x288 with 1 Axes>"
            ]
          },
          "metadata": {
            "needs_background": "light"
          }
        },
        {
          "output_type": "stream",
          "name": "stdout",
          "text": [
            "Out-of-sample  accuracy of linear regression:[0.6, 0.805, 0.8895]\n",
            "Out-of-sample  accuracy of log-linear model:[0.4, 0.41, 0.8245]\n"
          ]
        }
      ]
    },
    {
      "cell_type": "markdown",
      "source": [
        "Overall the log-linear model is less accurate than the linear regression.\n",
        "\n",
        "Both models perform the worst when trained with the second dataset, the in-sample accuracy drops when using the second dataset. In the data set many features do not hold any useful information and therefore, both models have poor estimation ability.\n",
        "\n",
        "The accuracy has increase overall when using the third data set.\n",
        "\n"
      ],
      "metadata": {
        "id": "XoLXgkI2JKc5"
      }
    },
    {
      "cell_type": "code",
      "source": [
        "\n",
        "plt.plot(coef_llm_1, label=\"Llm\")\n",
        "plt.plot(coef_lr_1[0], label=\"Lr\")\n",
        "plt.legend(loc='center right')\n",
        "plt.xlabel(\"Feature index\")\n",
        "plt.ylabel(\"Coefficient values\")\n",
        "plt.title(\"Coefficient of first data set\")\n",
        "plt.show()\n",
        "print(\"Coefficients of Linear gression:{}\".format(coef_lr_1))\n",
        "print(\"Coefficients of Log-linear model:{}\".format(coef_llm_1))"
      ],
      "metadata": {
        "id": "9GDaREQ6uryu",
        "colab": {
          "base_uri": "https://localhost:8080/",
          "height": 434
        },
        "outputId": "ac799159-a601-4246-fe0a-1b047759e9a8"
      },
      "execution_count": null,
      "outputs": [
        {
          "output_type": "display_data",
          "data": {
            "image/png": "[encoded data removed]",
            "text/plain": [
              "<Figure size 432x288 with 1 Axes>"
            ]
          },
          "metadata": {
            "needs_background": "light"
          }
        },
        {
          "output_type": "stream",
          "name": "stdout",
          "text": [
            "Coefficients of Linear gression:[[ 0.11749391  0.36280229  0.1988937  -0.13524315 -0.59610756  0.53226736\n",
            "  -0.2309617  -0.26469731  0.39572901 -0.39231489  0.10804355  0.08616512\n",
            "   0.1752864   0.27279522  0.06448614  0.32427173 -0.1106502   0.1215947\n",
            "   0.57231295  0.09369065]]\n",
            "Coefficients of Log-linear model:[1.00569057 1.00071164 1.00273831 1.00183754 1.00720812 0.99568885\n",
            " 1.00718819 1.00917526 1.00000322 1.00578991 1.00293446 0.99906898\n",
            " 1.00269881 1.00211643 1.00260041 1.00172848 1.00455932 1.00115118\n",
            " 0.99879421 0.99936892]\n"
          ]
        }
      ]
    },
    {
      "cell_type": "code",
      "source": [
        "plt.plot(coef_llm_2, label=\"Llm\")\n",
        "plt.plot(coef_lr_2[0], label=\"Lr\")\n",
        "plt.legend(loc='center right')\n",
        "plt.xlabel(\"Feature index\")\n",
        "plt.ylabel(\"Coefficient values\")\n",
        "plt.title(\"Coefficient of second data set\")\n",
        "plt.show()\n",
        "print(\"Coefficients of Linear gression:{}\".format(coef_lr_2))\n",
        "print(\"Coefficients of Log-linear model:{}\".format(coef_llm_2))"
      ],
      "metadata": {
        "id": "ECdFhKmDurYo",
        "colab": {
          "base_uri": "https://localhost:8080/",
          "height": 503
        },
        "outputId": "2b2cc577-e11d-417d-944a-13661ed24591"
      },
      "execution_count": null,
      "outputs": [
        {
          "output_type": "display_data",
          "data": {
            "image/png": "[encoded data removed]",
            "text/plain": [
              "<Figure size 432x288 with 1 Axes>"
            ]
          },
          "metadata": {
            "needs_background": "light"
          }
        },
        {
          "output_type": "stream",
          "name": "stdout",
          "text": [
            "Coefficients of Linear gression:[[-0.08658402  0.08684787 -0.29592981 -0.00103342  0.3000845   0.04283951\n",
            "   0.0733078  -0.02482786  0.02750635  0.18799465 -0.02482786  0.22691357\n",
            "   0.01542108  0.03815258 -0.13954696 -0.02482786  0.00046603  0.13593352\n",
            "  -0.03484043  0.02567557  0.27478879 -0.04467681  0.10062447  0.32179795\n",
            "  -0.21280161 -0.08202248 -0.04705881 -0.04848713 -0.31186916 -0.04989234\n",
            "  -0.04705881 -0.01677754  0.03815258 -0.00103342 -0.03058044]]\n",
            "Coefficients of Log-linear model:[0.92268786 1.06189672 1.0200639  1.07762798 1.00495062 1.20033323\n",
            " 0.82191028 1.0200724  1.06410767 0.92082173 1.0200724  0.98630607\n",
            " 1.0413294  1.23193917 0.93445261 1.0200724  0.96840266 0.96314482\n",
            " 1.10955749 0.96747537 0.95962118 1.03703297 1.00568446 0.97692992\n",
            " 0.98426739 1.352825   1.36029022 1.01872514 1.14602733 1.16779998\n",
            " 1.36029022 1.27996796 1.23193917 1.07762798 0.95813172]\n"
          ]
        }
      ]
    },
    {
      "cell_type": "code",
      "source": [
        "plt.plot(coef_llm_3, label=\"Llm\")\n",
        "plt.plot(coef_lr_3[0], label=\"Lr\")\n",
        "plt.legend(loc='center right')\n",
        "plt.xlabel(\"Feature index\")\n",
        "plt.ylabel(\"Coefficient values\")\n",
        "plt.title(\"Coefficient of third data set\")\n",
        "plt.show()\n",
        "print(\"Coefficients of Linear gression:{}\".format(coef_lr_3))\n",
        "print(\"Coefficients of Log-linear model:{}\".format(coef_llm_3))"
      ],
      "metadata": {
        "colab": {
          "base_uri": "https://localhost:8080/",
          "height": 434
        },
        "id": "TzFIC-kaDxlH",
        "outputId": "bbef3128-dd73-48da-d03f-e4583ad99916"
      },
      "execution_count": null,
      "outputs": [
        {
          "output_type": "display_data",
          "data": {
            "image/png": "[encoded data removed]",
            "text/plain": [
              "<Figure size 432x288 with 1 Axes>"
            ]
          },
          "metadata": {
            "needs_background": "light"
          }
        },
        {
          "output_type": "stream",
          "name": "stdout",
          "text": [
            "Coefficients of Linear gression:[[-0.0152776   0.04968965  0.01634876 -0.03539352  0.53715296  0.00791353\n",
            "   0.03477999 -0.00271339  0.31563984  0.01367658  0.53715296  0.00464811\n",
            "  -0.39050174  0.52985676  0.53715296  0.53715296 -0.00880183 -0.02360706\n",
            "  -0.39050174  0.31563984]]\n",
            "Coefficients of Log-linear model:[1.04115821 1.03596903 1.04442845 1.0571752  1.02153693 1.04713392\n",
            " 1.04077936 1.0470423  1.07414415 1.04962169 1.02153693 1.04825337\n",
            " 1.09409336 0.84099658 1.02153693 1.02153693 1.04858426 1.05080601\n",
            " 1.09409336 1.07414415]\n"
          ]
        }
      ]
    },
    {
      "cell_type": "code",
      "source": [
        ""
      ],
      "metadata": {
        "id": "Y1eK-1J-Gi3b"
      },
      "execution_count": null,
      "outputs": []
    }
  ]
}